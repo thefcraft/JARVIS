{
 "cells": [
  {
   "cell_type": "code",
   "execution_count": 1,
   "metadata": {},
   "outputs": [
    {
     "data": {
      "application/vnd.jupyter.widget-view+json": {
       "model_id": "83fb45d564904256a5c48e1d3bc06a4d",
       "version_major": 2,
       "version_minor": 0
      },
      "text/plain": [
       "vocabulary.txt:   0%|          | 0.00/460k [00:00<?, ?B/s]"
      ]
     },
     "metadata": {},
     "output_type": "display_data"
    },
    {
     "data": {
      "application/vnd.jupyter.widget-view+json": {
       "model_id": "349393b592ca4cad911fbe87232c7929",
       "version_major": 2,
       "version_minor": 0
      },
      "text/plain": [
       "model.bin:   0%|          | 0.00/484M [00:00<?, ?B/s]"
      ]
     },
     "metadata": {},
     "output_type": "display_data"
    },
    {
     "data": {
      "application/vnd.jupyter.widget-view+json": {
       "model_id": "a7bd3d03542b4d40bb6b78cb3a287943",
       "version_major": 2,
       "version_minor": 0
      },
      "text/plain": [
       "tokenizer.json:   0%|          | 0.00/2.20M [00:00<?, ?B/s]"
      ]
     },
     "metadata": {},
     "output_type": "display_data"
    },
    {
     "data": {
      "application/vnd.jupyter.widget-view+json": {
       "model_id": "03d31450ea2f4f44bbaf9e04588038ac",
       "version_major": 2,
       "version_minor": 0
      },
      "text/plain": [
       "config.json:   0%|          | 0.00/2.37k [00:00<?, ?B/s]"
      ]
     },
     "metadata": {},
     "output_type": "display_data"
    },
    {
     "name": "stdout",
     "output_type": "stream",
     "text": [
      "Importing the dtw module. When using in academic works please cite:\n",
      "  T. Giorgino. Computing and Visualizing Dynamic Time Warping Alignments in R: The dtw Package.\n",
      "  J. Stat. Soft., doi:10.18637/jss.v031.i07.\n",
      "\n",
      "Loaded checkpoint 'checkpoints/base_speakers/EN/checkpoint.pth'\n",
      "missing/unexpected keys: [] []\n",
      "Loaded checkpoint 'checkpoints/converter/checkpoint.pth'\n",
      "missing/unexpected keys: [] []\n"
     ]
    }
   ],
   "source": [
    "import utils\n",
    "from colorama import Fore, Style\n",
    "\n",
    "recorder = utils.stt.Recorder(filename='.temp/recorder.wav', transcribeFunction=utils.stt.transcribeFunction)\n",
    "speaker = utils.tts.Speaker(filename='.temp/speaker.wav', speaker='default', language='English', speed=1) # speaker=whispering"
   ]
  },
  {
   "cell_type": "code",
   "execution_count": 4,
   "metadata": {},
   "outputs": [
    {
     "name": "stdout",
     "output_type": "stream",
     "text": [
      "\n",
      "[+] Saved: .temp/recorder.wavecs=[6] Timeout=[0]]]\n",
      "\u001b[32m  Hello Anna, what are you doing? \u001b[0m\n",
      "\u001b[31m\n",
      "Hi! Right now I'm just responding to your message. Before that, I was assisting other users with their queries and helping them find the information they need. How about you, what can I help you with today?\u001b[0m\n",
      " > Text splitted to sentences.\n",
      "Hi! Right now I'm just responding to your message. Before that,\n",
      "I was assisting other users with their queries and helping them find the information they need.\n",
      "How about you, what can I help you with today?\n",
      " > ===========================\n",
      "haɪ! ɹaɪt naʊ əm dʒɪst ɹɪˈspɑndɪŋ tɪ jʊɹ ˈmɛsɪdʒ. ˌbiˈfɔɹ ðət,\n",
      " length:62\n",
      " length:62\n",
      "aɪ wɑz əˈsɪstɪŋ ˈəðəɹ ˈjuzəɹz wɪθ ðɛɹ kˈwɪɹiz ənd ˈhɛlpɪŋ ðɛm faɪnd ðə ˌɪnˌfɔɹˈmeɪʃən ðeɪ nid.\n",
      " length:94\n",
      " length:94\n",
      "haʊ əˈbaʊt ju, wət kən aɪ hɛɫp ju wɪθ təˈdeɪ?\n",
      " length:45\n",
      " length:45\n",
      "[+] Saved: .temp/recorder.wavecs=[25] Timeout=[0]]]\n",
      "\u001b[32m  What's your name? \u001b[0m\n",
      "\u001b[31m\n",
      "My name is Anna, and I'm a virtual assistant designed to provide quick and helpful responses to your questions or requests. Is there something specific you'd like me to look up for you today? Just let me know!\u001b[0m\n",
      " > Text splitted to sentences.\n",
      "My name is Anna, and I'm a virtual assistant designed to provide quick and helpful responses to your questions or requests.\n",
      "Is there something specific you'd like me to look up for you today?\n",
      "Just let me know!\n",
      " > ===========================\n",
      "maɪ neɪm ɪz ˈænə, ənd əm ə ˈvəɹtʃuəɫ əˈsɪstənt dɪˈzaɪnd tɪ pɹəˈvaɪd kwɪk ənd ˈhɛlpfəɫ ɹɪˈspɑnsɪz tɪ jʊɹ kˈwɛstʃənz əɹ ɹɪkˈwɛsts.\n",
      " length:128\n",
      " length:128\n",
      "ɪz ðɛɹ ˈsəmθɪŋ spɪˈsɪfɪk jʊd laɪk mi tɪ lʊk əp fəɹ ju təˈdeɪ?\n",
      " length:61\n",
      " length:61\n",
      "dʒɪst lɛt mi noʊ!\n",
      " length:17\n",
      " length:17\n",
      "[+] Saved: .temp/recorder.wavecs=[44] Timeout=[0]]]\n",
      "\u001b[32m  Who is Hitler? \u001b[0m\n",
      "\u001b[31m\n",
      "Adolf Hitler was a German politician who served as the dictator of Nazi Germany from 1933 to 1945. He came to power during the Weimar Republic, and his Nazi Party (Nationalsozialistische Deutsche Arbeiterpartei) rose to prominence in the aftermath of the Great Depression. Hitler's regime is infamous for its brutal persecution of Jews and other minority groups, as well as for initiating World War II through aggressive expansionism.\u001b[0m\n",
      " > Text splitted to sentences.\n",
      "Adolf Hitler was a German politician who served as the dictator of Nazi Germany from 1933 to 1945.\n",
      "He came to power during the Weimar Republic, and his Nazi Party Nationalsozialistische Deutsche Arbeiterpartei rose to prominence in the aftermath of the Great Depression.\n",
      "Hitler's regime is infamous for its brutal persecution of Jews and other minority groups,\n",
      "as well as for initiating World War II through aggressive expansionism.\n",
      " > ===========================\n",
      "ˈeɪdɑɫf ˈhɪtləɹ wɑz ə ˈdʒəɹmən ˌpɑləˈtɪʃən hu səɹvd ɛz ðə ˈdɪkteɪtəɹ əv ˈnɑtsi ˈdʒəɹməni fɹəm ˈnaɪnˈtin thiɹty-thɹee* tɪ ˈnaɪnˈtin ˈfɔɹtiˌfaɪv.\n",
      " length:143\n",
      " length:143\n",
      "hi keɪm tɪ paʊəɹ ˈdʊɹɪŋ ðə ˈvaɪmɑɹ ɹiˈpəblɪk, ənd hɪz ˈnɑtsi ˈpɑɹti nationalsozialistische* dɔɪtʃ aɹbeiteɹpaɹtei* ɹoʊz tɪ ˈpɹɑmənəns ɪn ðə ˈæftəɹˌmæθ əv ðə gɹeɪt dɪˈpɹɛʃən.\n",
      " length:172\n",
      " length:171\n",
      "ˈhɪtləɹz ɹəˈʒim ɪz ˈɪnfəməs fəɹ ɪts ˈbɹutəɫ ˌpəɹsəˈkjuʃən əv dʒuz ənd ˈəðəɹ məˈnɔɹəti gɹups,\n",
      " length:92\n",
      " length:92\n",
      "ɛz wɛɫ ɛz fəɹ ˌɪˈnɪʃiˌeɪtɪŋ wəɹɫd wɔɹ ii* θɹu əˈgɹɛsɪv ɪkˈspæntʃəˌnɪzəm.\n",
      " length:72\n",
      " length:72\n"
     ]
    },
    {
     "ename": "KeyboardInterrupt",
     "evalue": "",
     "output_type": "error",
     "traceback": [
      "\u001b[1;31m---------------------------------------------------------------------------\u001b[0m",
      "\u001b[1;31mKeyboardInterrupt\u001b[0m                         Traceback (most recent call last)",
      "Cell \u001b[1;32mIn[4], line 29\u001b[0m\n\u001b[0;32m     27\u001b[0m     response\u001b[38;5;241m+\u001b[39m\u001b[38;5;241m=\u001b[39mchunk\n\u001b[0;32m     28\u001b[0m \u001b[38;5;28mprint\u001b[39m(Style\u001b[38;5;241m.\u001b[39mRESET_ALL)\n\u001b[1;32m---> 29\u001b[0m \u001b[43mspeaker\u001b[49m\u001b[38;5;241;43m.\u001b[39;49m\u001b[43mspeak\u001b[49m\u001b[43m(\u001b[49m\u001b[43mresponse\u001b[49m\u001b[43m)\u001b[49m\n",
      "File \u001b[1;32mc:\\ThefCraft\\AI\\jarvis\\utils\\tts.py:43\u001b[0m, in \u001b[0;36mSpeaker.speak\u001b[1;34m(self, text, speaker, language, speed, wait)\u001b[0m\n\u001b[0;32m     41\u001b[0m \u001b[38;5;66;03m# Wait for the sound to finish playing\u001b[39;00m\n\u001b[0;32m     42\u001b[0m \u001b[38;5;28;01mif\u001b[39;00m wait:\n\u001b[1;32m---> 43\u001b[0m     \u001b[43mplay_obj\u001b[49m\u001b[38;5;241;43m.\u001b[39;49m\u001b[43mwait_done\u001b[49m\u001b[43m(\u001b[49m\u001b[43m)\u001b[49m\n",
      "File \u001b[1;32mc:\\Users\\laksh\\AppData\\Local\\Programs\\Python\\Python310\\lib\\site-packages\\simpleaudio\\shiny.py:49\u001b[0m, in \u001b[0;36mPlayObject.wait_done\u001b[1;34m(self)\u001b[0m\n\u001b[0;32m     47\u001b[0m \u001b[38;5;28;01mdef\u001b[39;00m \u001b[38;5;21mwait_done\u001b[39m(\u001b[38;5;28mself\u001b[39m):\n\u001b[0;32m     48\u001b[0m     \u001b[38;5;28;01mwhile\u001b[39;00m \u001b[38;5;28mself\u001b[39m\u001b[38;5;241m.\u001b[39mis_playing():\n\u001b[1;32m---> 49\u001b[0m         \u001b[43msleep\u001b[49m\u001b[43m(\u001b[49m\u001b[38;5;241;43m0.05\u001b[39;49m\u001b[43m)\u001b[49m\n",
      "\u001b[1;31mKeyboardInterrupt\u001b[0m: "
     ]
    }
   ],
   "source": [
    "### llm parameters\n",
    "# system_prompt = \"Below is an instruction that describes a task. Write a response that appropriately completes the request.\"\n",
    "system_prompt = '''I want you to act as an interviewer. I will be the candidate and you will ask me the interview questions for the [INSERT] position. I want you to only reply as the interviewer. Do not write all the conservation at once. I want you to only do the interview with me. Ask me the questions and wait for my answers. Do not write explanations. Ask me the questions one by one like an interviewer does and wait for my answers.'''\n",
    "system_prompt = '''I want you to act as an interviewer. I will be the candidate and you will ask me the interview questions for the any position (chose any random). I want you to only reply as the interviewer. Do not write all the conservation at once. I want you to only do the interview with me. Ask me the questions and wait for my answers. Do not write explanations. Ask me the questions one by one like an interviewer does and wait for my answers.'''\n",
    "system_prompt = '''You are Anna, act as you are talking to someone, respond only speakible responses'''\n",
    "num_history_prompts = 10\n",
    "first_prompt = None #'My first sentence is \"Hi\".'\n",
    "\n",
    "ai = utils.llmUtils.llm(system_prompt=system_prompt, num_history_prompts=num_history_prompts)\n",
    "\n",
    "if first_prompt:\n",
    "    print(Fore.GREEN, first_prompt, Style.RESET_ALL)\n",
    "    response = ''\n",
    "    print(Fore.RED)\n",
    "    for chunk in ai(first_prompt):\n",
    "        print(chunk, end='')\n",
    "        response+=chunk\n",
    "    print(Style.RESET_ALL)\n",
    "    speaker.speak(response)\n",
    "\n",
    "for text in recorder.record():\n",
    "    print(Fore.GREEN, text, Style.RESET_ALL)\n",
    "    response = ''\n",
    "    print(Fore.RED)\n",
    "    for chunk in ai(text):\n",
    "        print(chunk, end='')\n",
    "        response+=chunk\n",
    "    print(Style.RESET_ALL)\n",
    "    speaker.speak(response)"
   ]
  },
  {
   "cell_type": "code",
   "execution_count": null,
   "metadata": {},
   "outputs": [],
   "source": []
  },
  {
   "cell_type": "markdown",
   "metadata": {},
   "source": [
    "# Virtual assistant\n",
    "\n",
    "### Setup LLM\n",
    "- Install [LM Studio](https://lmstudio.ai/) or and other openai API compatible server\n",
    "- Load and run a large language model to localhost\n",
    "- you can see the setup on [youtube](https://www.youtube.com/watch?v=IgcBuXFE6QE&ab_channel=AllAboutAI)\n",
    "\n",
    "### Install Requirements\n",
    "- Install python\n",
    "- pip install -r requirements.txt\n",
    "  \n",
    "### clone repo\n",
    "- git clone repo url or download zip\n",
    "\n",
    "### credits\n",
    "- [LM Studio](https://lmstudio.ai/)\n",
    "- [OpenVoice](https://github.com/myshell-ai/OpenVoice)\n",
    "- [VTuber_Unity](https://github.com/kwea123/VTuber_Unity/releases)"
   ]
  }
 ],
 "metadata": {
  "kernelspec": {
   "display_name": "Python 3",
   "language": "python",
   "name": "python3"
  },
  "language_info": {
   "codemirror_mode": {
    "name": "ipython",
    "version": 3
   },
   "file_extension": ".py",
   "mimetype": "text/x-python",
   "name": "python",
   "nbconvert_exporter": "python",
   "pygments_lexer": "ipython3",
   "version": "3.10.6"
  }
 },
 "nbformat": 4,
 "nbformat_minor": 2
}
